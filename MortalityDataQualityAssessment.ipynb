{
 "cells": [
  {
   "cell_type": "markdown",
   "id": "c47935af-9a39-4fba-8967-8ad69c682786",
   "metadata": {},
   "source": [
    "# Calculating Metrics for Assessing Mortality Data Quality\n",
    "\n",
    "The following code demonstrates some simple examples of calculating metrics that are part of the Data Quality Assessment Framework and  Jurisdictional Playbook.\n",
    "\n",
    "## Calculating Unsuitable Underlying Cause of Death\n",
    "\n",
    "The following code\n",
    "\n",
    "1. Imports some Python libraries\n",
    "2. Loads some synthetic sample data from a CSV\n",
    "3. Loads a list of unsuitable underlying cause of death codes\n",
    "4. Demonstrates how the underlying cause of death codes in sample data can be evaluated against the list of unsuitable underlying causes of death"
   ]
  },
  {
   "cell_type": "code",
   "execution_count": null,
   "id": "61caee03-8b68-4309-90d7-812a7d8973e2",
   "metadata": {},
   "outputs": [],
   "source": [
    "import os\n",
    "import pandas as pd\n",
    "from IPython.display import display, HTML\n",
    "\n",
    "# Load the death records data, making sure we handle N/A values in a usable way\n",
    "death_records = pd.read_csv(\"./data/NotionalDeathRecordData.csv\", keep_default_na=False, na_values=[\"\"])\n",
    "display(death_records)"
   ]
  },
  {
   "cell_type": "code",
   "execution_count": null,
   "id": "7903df46-32bb-451a-b04d-ae3607c5c6a7",
   "metadata": {},
   "outputs": [],
   "source": [
    "# Load the unsuitable causes of death data\n",
    "unsuitable_causes = pd.read_csv(\"./data/unsuitable_COD_codes.csv\")\n",
    "display(unsuitable_causes)"
   ]
  },
  {
   "cell_type": "code",
   "execution_count": null,
   "id": "6db67443-8476-4bdf-b9e1-7df352827a07",
   "metadata": {},
   "outputs": [],
   "source": [
    "# Extract the unsuitable codes\n",
    "unsuitable_codes = unsuitable_causes[\"code\"].values\n",
    "\n",
    "# Function to check if any unsuitable code is a prefix to the code in the record\n",
    "def is_unsuitable(code):\n",
    "    return any(code.startswith(unsuitable) for unsuitable in unsuitable_codes)\n",
    "\n",
    "# Create a new column that is True when the underlying COD is unsuitable\n",
    "death_records[\"Unsuitable Underlying\"] = death_records[\"Underlying COD\"].apply(is_unsuitable)\n",
    "display(death_records)"
   ]
  },
  {
   "cell_type": "code",
   "execution_count": null,
   "id": "248610a5-a4ba-41b8-ae26-739d464abcf4",
   "metadata": {},
   "outputs": [],
   "source": [
    "# Calculate the proportion of records with an unsuitable underlying cause of death and print\n",
    "proportion = death_records[\"Unsuitable Underlying\"].mean()\n",
    "print(f\"The proportion of records with an unsuitable underlying cause of death is {proportion:.2f}\")"
   ]
  },
  {
   "cell_type": "code",
   "execution_count": null,
   "id": "cb8881f1-ee73-4132-858d-030d15a2eebe",
   "metadata": {},
   "outputs": [],
   "source": [
    "# Group the records by certifier and calculate the proportion of unsuitable records for each certifier and print\n",
    "certifier_proportions = death_records.groupby(\"Certifier Name\", as_index=False)[\"Unsuitable Underlying\"].mean()\n",
    "display(certifier_proportions)"
   ]
  },
  {
   "cell_type": "code",
   "execution_count": null,
   "id": "0d1f2b92-885c-4bdd-9c5b-bb6c32653447",
   "metadata": {},
   "outputs": [],
   "source": [
    "# Filter for certifiers that have unsuitable underlying causes in records they've reported\n",
    "filtered = certifier_proportions[certifier_proportions['Unsuitable Underlying'] > 0.0]\n",
    "display(filtered)"
   ]
  },
  {
   "cell_type": "code",
   "execution_count": null,
   "id": "5383350a-08ec-4d1a-a8cd-5d6427e43480",
   "metadata": {},
   "outputs": [],
   "source": [
    "# Print the certifier names in the resulting set; this could drive an automated notification process\n",
    "for certifier_name in filtered['Certifier Name']:\n",
    "    print(certifier_name)"
   ]
  }
 ],
 "metadata": {
  "kernelspec": {
   "display_name": "Python 3 (ipykernel)",
   "language": "python",
   "name": "python3"
  },
  "language_info": {
   "codemirror_mode": {
    "name": "ipython",
    "version": 3
   },
   "file_extension": ".py",
   "mimetype": "text/x-python",
   "name": "python",
   "nbconvert_exporter": "python",
   "pygments_lexer": "ipython3",
   "version": "3.10.8"
  }
 },
 "nbformat": 4,
 "nbformat_minor": 5
}
