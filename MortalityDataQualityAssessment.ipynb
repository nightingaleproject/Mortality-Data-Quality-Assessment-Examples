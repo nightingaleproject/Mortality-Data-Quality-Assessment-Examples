{
 "cells": [
  {
   "cell_type": "markdown",
   "id": "c47935af-9a39-4fba-8967-8ad69c682786",
   "metadata": {},
   "source": [
    "# Calculating Metrics for Assessing Mortality Data Quality\n",
    "\n",
    "The following code demonstrates some simple examples of calculating metrics that are part of the Data Quality Assessment Framework and  Jurisdictional Playbook.\n",
    "\n",
    "## Calculating Metrics Related to Unsuitable Underlying Cause of Death\n",
    "\n",
    "The following code demonstrates how mortality records can be evaluated against a list of unsuitable underlying cause of death codes. The code\n",
    "\n",
    "1. Imports some Python libraries\n",
    "2. Loads some synthetic sample data from a CSV file\n",
    "3. Loads a list of unsuitable underlying cause of death codes from another CSV file\n",
    "4. Evaluates the underlying cause of death codes in the sample data against the list of unsuitable underlying cause of death codes\n",
    "5. Looks at the results on a per-certifier basis"
   ]
  },
  {
   "cell_type": "code",
   "execution_count": null,
   "id": "61caee03-8b68-4309-90d7-812a7d8973e2",
   "metadata": {},
   "outputs": [],
   "source": [
    "import os\n",
    "import pandas as pd\n",
    "from IPython.display import display\n",
    "\n",
    "# Load the synthetic death records data, making sure we handle N/A values in a consistent way\n",
    "death_records = pd.read_csv(\"./data/NotionalDeathRecordData.csv\", keep_default_na=False, na_values=[\"\"])\n",
    "display(death_records)"
   ]
  },
  {
   "cell_type": "code",
   "execution_count": null,
   "id": "7903df46-32bb-451a-b04d-ae3607c5c6a7",
   "metadata": {},
   "outputs": [],
   "source": [
    "# Load the unsuitable causes of death data; list of unsuitable codes and related category and display\n",
    "# string are taken directly from Flagg 2021: https://stacks.cdc.gov/view/cdc/100414\n",
    "unsuitable_causes = pd.read_csv(\"./data/unsuitable_COD_codes.csv\")\n",
    "display(unsuitable_causes)"
   ]
  },
  {
   "cell_type": "code",
   "execution_count": null,
   "id": "6db67443-8476-4bdf-b9e1-7df352827a07",
   "metadata": {},
   "outputs": [],
   "source": [
    "# Extract the unsuitable codes\n",
    "unsuitable_codes = unsuitable_causes[\"code\"].values\n",
    "\n",
    "# Function to check if any unsuitable code is a prefix to the code in the record\n",
    "def is_unsuitable(code):\n",
    "    return any(code.startswith(unsuitable) for unsuitable in unsuitable_codes)\n",
    "\n",
    "# Create a new column that is True when the underlying COD is unsuitable\n",
    "death_records[\"Unsuitable Underlying\"] = death_records[\"Underlying COD\"].apply(is_unsuitable)\n",
    "display(death_records)"
   ]
  },
  {
   "cell_type": "code",
   "execution_count": null,
   "id": "248610a5-a4ba-41b8-ae26-739d464abcf4",
   "metadata": {},
   "outputs": [],
   "source": [
    "# Calculate the proportion of records with an unsuitable underlying cause of death and print\n",
    "proportion = death_records[\"Unsuitable Underlying\"].mean()\n",
    "print(f\"The proportion of records with an unsuitable underlying cause of death is {proportion:.2f}\")"
   ]
  },
  {
   "cell_type": "code",
   "execution_count": null,
   "id": "cb8881f1-ee73-4132-858d-030d15a2eebe",
   "metadata": {},
   "outputs": [],
   "source": [
    "# Group the records by certifier and calculate the proportion of unsuitable records for each certifier and print\n",
    "certifier_proportions = death_records.groupby(\"Certifier Name\", as_index=False)[\"Unsuitable Underlying\"].mean()\n",
    "display(certifier_proportions)"
   ]
  },
  {
   "cell_type": "code",
   "execution_count": null,
   "id": "0d1f2b92-885c-4bdd-9c5b-bb6c32653447",
   "metadata": {},
   "outputs": [],
   "source": [
    "# Filter for certifiers that have unsuitable underlying causes in records they've reported\n",
    "filtered = certifier_proportions[certifier_proportions['Unsuitable Underlying'] > 0.2]\n",
    "display(filtered)"
   ]
  },
  {
   "cell_type": "code",
   "execution_count": null,
   "id": "5383350a-08ec-4d1a-a8cd-5d6427e43480",
   "metadata": {},
   "outputs": [],
   "source": [
    "# Print the certifier names in the resulting set; this could drive an automated notification process\n",
    "for certifier_name in filtered['Certifier Name']:\n",
    "    print(certifier_name)"
   ]
  },
  {
   "cell_type": "code",
   "execution_count": null,
   "id": "8b2debfc-e41e-4a47-a3d4-bb320aacd80c",
   "metadata": {},
   "outputs": [],
   "source": [
    "# TODO: Consider listing all of the matching records for each certifier for use in reachback;\n",
    "# when doing that it might be helpful to include jurisdiction literals in our synthetic data"
   ]
  },
  {
   "cell_type": "markdown",
   "id": "61c67ad8-d6c4-4374-af63-e0d7c73bac49",
   "metadata": {},
   "source": [
    "## Calculating Metrics Related to Certification Within Required Time\n",
    "\n",
    "The following code demonstrates how mortality records can be evaluated against certification time guidelines. This code uses the same python libraries and sample code set up above and\n",
    "\n",
    "1. Evaluates the records against a 5 day certification requirement\n",
    "2. Looks at the results on a per-certifier basis"
   ]
  },
  {
   "cell_type": "code",
   "execution_count": null,
   "id": "182ddfcb-d72e-4785-b280-13c7ae783b11",
   "metadata": {},
   "outputs": [],
   "source": [
    "# First parse the relevant dates in the sample data from strings into a native datetime\n",
    "death_records[\"Date of Death\"] = pd.to_datetime(death_records[\"Date of Death\"])\n",
    "death_records[\"Date Certified\"] = pd.to_datetime(death_records[\"Date Certified\"])\n",
    "\n",
    "# Calculate the difference in days between the Date Certified and the Date of Death                                                                                  \n",
    "death_records[\"Days Difference\"] = (death_records[\"Date Certified\"] - death_records[\"Date of Death\"]).dt.days\n",
    "\n",
    "# Create a column that is True when the time between death and certification is not within 5 days\n",
    "death_records[\"Not Within 5 Days\"] = ~death_records[\"Days Difference\"].between(0, 5)\n",
    "display(death_records)"
   ]
  },
  {
   "cell_type": "code",
   "execution_count": null,
   "id": "7aa5d8e7-8f3f-4fdc-918c-984218674880",
   "metadata": {},
   "outputs": [],
   "source": [
    "# Calculate the proportion of records where the Date Certified is not within 5 days of the Date of Death\n",
    "proportion = death_records[\"Not Within 5 Days\"].mean()\n",
    "print(f\"The proportion of records where the Date Certified is not within 5 days of the Date of Death is {proportion:.2f}\")"
   ]
  },
  {
   "cell_type": "code",
   "execution_count": null,
   "id": "ea252d64-5d24-4757-a833-0085f9c7aa0e",
   "metadata": {},
   "outputs": [],
   "source": [
    "# Group the records by certifier and calculate the proportion of late records for each certifier and print\n",
    "certifier_proportions = death_records.groupby(\"Certifier Name\", as_index=False)[\"Not Within 5 Days\"].mean()\n",
    "\n",
    "# Filter for certifiers that have a significant proportion of late records for records they've reported\n",
    "filtered = certifier_proportions[certifier_proportions['Not Within 5 Days'] > 0.06]\n",
    "display(filtered)"
   ]
  },
  {
   "cell_type": "markdown",
   "id": "18dc7396-90dd-4836-b248-028dd82e40c6",
   "metadata": {},
   "source": [
    "## Calculating Metrics Related to Incomplete Demographic Information\n",
    "\n",
    "The following code demonstrates how mortality records can be evaluated against metrics for completeness of demographic information. This code uses the same python libraries and sample code set up above and\n",
    "\n",
    "1. Evaluates the records for missing demographic information\n",
    "2. Looks at the results on a per-certifier basis"
   ]
  },
  {
   "cell_type": "code",
   "execution_count": null,
   "id": "a45bd9b9-b593-42a5-b6d9-3fa4ca1f952c",
   "metadata": {},
   "outputs": [],
   "source": [
    "# Define the demographic columns we're interested in\n",
    "demographic_columns = [\n",
    "    \"Sex\",\n",
    "    \"Age\",\n",
    "    \"Bridged Race\",\n",
    "    \"Hispanic Origin\",\n",
    "]  # add or remove columns as needed\n",
    "\n",
    "# Create a new column that is True when at least one demographic field is empty\n",
    "death_records[\"Incomplete Demographics\"] = (death_records[demographic_columns].isna().any(axis=1))\n",
    "\n",
    "# Calculate the proportion of records with incomplete demographic fields\n",
    "proportion = death_records[\"Incomplete Demographics\"].mean()\n",
    "print(f\"The proportion of records with at least one demographic field incomplete is {proportion:.2f}\")"
   ]
  },
  {
   "cell_type": "code",
   "execution_count": null,
   "id": "86afebc1-4561-43ce-b9b6-d2ab7d2d8b18",
   "metadata": {},
   "outputs": [],
   "source": [
    "# The Hispanic Origin column may also have an explicit \"Unknown\" value of 9, which we can check for separately\n",
    "# Create a new column that is True when at least one demographic field is empty\n",
    "death_records[\"Unknown Hispanic Origin\"] = (death_records[\"Hispanic Origin\"] == 9)\n",
    "proportion = death_records[\"Unknown Hispanic Origin\"].mean()\n",
    "print(f\"The proportion of records with an unknown Hispanic Origin value is {proportion:.2f}\")"
   ]
  },
  {
   "cell_type": "code",
   "execution_count": null,
   "id": "8c220fde-a61b-4aa8-8ff0-d31291c3f164",
   "metadata": {},
   "outputs": [],
   "source": [
    "# Group the records by certifier and calculate the proportion of \"incomplete\" records for each certifier\n",
    "# looking at both empty fields and unknown value for Hispanic Origin\n",
    "certifier_proportions = death_records.groupby(\"Certifier Name\", as_index=False).apply(\n",
    "    lambda group: (group[\"Incomplete Demographics\"] & group[\"Unknown Hispanic Origin\"]).mean(),\n",
    "    include_groups=False\n",
    ")\n",
    "certifier_proportions.columns = ['Certifier Name', 'Incomplete or Unknown']\n",
    "\n",
    "# Filter for certifiers that have a significant proportion of \"incomplete\" records\n",
    "filtered = certifier_proportions[certifier_proportions['Incomplete or Unknown'] > 0.05]\n",
    "display(filtered)"
   ]
  }
 ],
 "metadata": {
  "kernelspec": {
   "display_name": "Python 3 (ipykernel)",
   "language": "python",
   "name": "python3"
  },
  "language_info": {
   "codemirror_mode": {
    "name": "ipython",
    "version": 3
   },
   "file_extension": ".py",
   "mimetype": "text/x-python",
   "name": "python",
   "nbconvert_exporter": "python",
   "pygments_lexer": "ipython3",
   "version": "3.10.8"
  }
 },
 "nbformat": 4,
 "nbformat_minor": 5
}
